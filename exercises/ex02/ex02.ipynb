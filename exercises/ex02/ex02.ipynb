{
 "cells": [
  {
   "cell_type": "code",
   "execution_count": 1,
   "id": "9fc320cc",
   "metadata": {
    "lines_to_next_cell": 2
   },
   "outputs": [],
   "source": [
    "import utils\n",
    "import numpy as np\n",
    "import scipy as sp\n",
    "import matplotlib.pyplot as plt"
   ]
  },
  {
   "cell_type": "markdown",
   "id": "ead6ec4f",
   "metadata": {},
   "source": [
    " # Exercise 2"
   ]
  },
  {
   "cell_type": "markdown",
   "id": "ab797fa6",
   "metadata": {},
   "source": [
    "The solution is given using the matrix formalism."
   ]
  },
  {
   "cell_type": "markdown",
   "id": "f37e6a1a",
   "metadata": {
    "lines_to_next_cell": 2
   },
   "source": [
    "## II.1 Polynomial fitting"
   ]
  },
  {
   "cell_type": "markdown",
   "id": "53cdd86c",
   "metadata": {},
   "source": [
    "1. Implement $f(x, w) = \\Phi^\\top w$. First implement $\\Phi$ as:"
   ]
  },
  {
   "cell_type": "code",
   "execution_count": 1,
   "id": "658c9892",
   "metadata": {
    "lines_to_next_cell": 1
   },
   "outputs": [],
   "source": [
    "def Phi_f(x, D):\n",
    "    \"\"\"Computes the feature matrix [ x^0 x^1 ... x^D ]^T\n",
    "    x: (N,) samples\n",
    "    D: exponent to use\n",
    "    Output:\n",
    "        (D+1)xN matrix\n",
    "        \"\"\"\n",
    "    return x.reshape(1, -1) ** np.arange(D+1).reshape(-1, 1)"
   ]
  },
  {
   "cell_type": "code",
   "execution_count": 2,
   "id": "22564320",
   "metadata": {
    "lines_to_next_cell": 1
   },
   "outputs": [],
   "source": [
    "# then $f$:\n",
    "def f(x, w):\n",
    "    \"\"\"Compute the features\n",
    "    x: (N,) vector of samples\n",
    "    w: (D+1,) vector of weights\n",
    "    Output:\n",
    "        N vector\n",
    "        \"\"\"\n",
    "    D = w.shape[0] -1\n",
    "    Phi = Phi_f(x, D)  # the exponents of x, size D+1 x N\n",
    "    y = Phi.T @ w  # of size N,\n",
    "    return y"
   ]
  },
  {
   "cell_type": "markdown",
   "id": "76b8b990",
   "metadata": {},
   "source": [
    "2. Implement $E_\\lambda(w)$"
   ]
  },
  {
   "cell_type": "code",
   "execution_count": null,
   "id": "78a53005",
   "metadata": {
    "lines_to_next_cell": 1
   },
   "outputs": [],
   "source": [
    "def  E(w, lmbda, x, t):\n",
    "    \"\"\"Energy function E_\\lambda, vectorized\n",
    "    w: (D,)\n",
    "    x: (N,D)\n",
    "    t: (N,)\n",
    "    \"\"\"\n",
    "    y = f(x, w)  # (N,)\n",
    "    return 1/2*np.linalg.norm(y - t)**2 + lmbda/2 * np.linalg.norm(w)^2"
   ]
  },
  {
   "cell_type": "code",
   "execution_count": null,
   "id": "8a3093c1",
   "metadata": {
    "lines_to_next_cell": 1
   },
   "outputs": [],
   "source": [
    "# and $\\nabla E_\\lambda(w)$\n",
    "def grad_E(w, lmbda, x, t):\n",
    "    \"\"\"Gradient of E\n",
    "    w: (D+1,)\n",
    "    x: (N,)\n",
    "    t: (N,)\n",
    "    \"\"\"\n",
    "    D = w.shape[0]-1\n",
    "    Phi = Phi_f(x, D)\n",
    "    I = np.eye(D)\n",
    "    return Phi @(Phi.T @ w - t) + lmbda*w"
   ]
  },
  {
   "cell_type": "markdown",
   "id": "5842b4f6",
   "metadata": {},
   "source": [
    "3.a. Gradient descent steps to minimize $E$."
   ]
  },
  {
   "cell_type": "code",
   "execution_count": null,
   "id": "2827a619",
   "metadata": {
    "lines_to_next_cell": 1
   },
   "outputs": [],
   "source": [
    "def find_w_GD(w0,  lmbda, x, t, eta=0.1, tol=1e-3, MAX_STEP=10_000):\n",
    "    \"\"\"Find the optimal w with gradient descent\n",
    "    w0: (D+1,) starting point\n",
    "    x: (N,) samples\n",
    "    t: (N,) targets\n",
    "    tol: tolerance as stoppping criterion\n",
    "    Output:\n",
    "        w* optimal\n",
    "    \"\"\"\n",
    "    k = 0\n",
    "    converged = False\n",
    "    w = w0\n",
    "    while not converged:\n",
    "        grad = grad_E(w, lmbda, x, t)\n",
    "        w = w - eta * grad\n",
    "        converged = np.linalg.norm(grad) < tol or k > MAX_STEP\n",
    "        k += 1\n",
    "    return w, k"
   ]
  },
  {
   "cell_type": "markdown",
   "id": "34827f2a",
   "metadata": {},
   "source": [
    "3.b Find $w^*$ by solving the linear system, $w^* = (\\Phi \\Phi^\\top + \\lambda\n",
    "I)^{-1} \\Phi t$"
   ]
  },
  {
   "cell_type": "code",
   "execution_count": null,
   "id": "301a0170",
   "metadata": {
    "lines_to_next_cell": 1
   },
   "outputs": [],
   "source": [
    "def find_w_sys(lmbda, x, t, D):\n",
    "    \"\"\"Find the optimal w by solving the system of linear equations\n",
    "    x: (N,) samples\n",
    "    t: (N,) targets\n",
    "    D: degree of the polynomial\n",
    "    \"\"\"\n",
    "    I = np.eye(D+1)\n",
    "    Phi = Phi_f(x, D)\n",
    "    Inv = sp.linalg.pinv(Phi @ Phi.T + lmbda* I)  # pseudo inverse, in the case it is not invertible\n",
    "    return Inv @ Phi @ t"
   ]
  },
  {
   "cell_type": "markdown",
   "id": "287a04f4",
   "metadata": {},
   "source": [
    "Plot the different results"
   ]
  },
  {
   "cell_type": "code",
   "execution_count": null,
   "id": "3ca1c69a",
   "metadata": {},
   "outputs": [],
   "source": [
    "# Fixed N, varying lambda, D\n",
    "Ds = [1, 3, 9, 15]  # will serve as row index\n",
    "lambdas = [0, 0.01, 0.1, 1]  # column index\n",
    "N = 30  # number of samples\n",
    "eta = 0.1  # learning rate"
   ]
  },
  {
   "cell_type": "code",
   "execution_count": null,
   "id": "4230f15c",
   "metadata": {},
   "outputs": [],
   "source": [
    "np.random.seed(1)"
   ]
  },
  {
   "cell_type": "code",
   "execution_count": null,
   "id": "b241f132",
   "metadata": {
    "lines_to_next_cell": 2
   },
   "outputs": [],
   "source": [
    "Nrow = len(Ds)\n",
    "Ncol = len(lambdas)\n",
    "x, t = utils.gen_sin_data(N=N)  # training samples, N points\n",
    "fig, axes = plt.subplots(Nrow, Ncol, figsize=(Ncol*4, Nrow*4))\n",
    "for iD, D in enumerate(Ds):\n",
    "    for il, lmbda in enumerate(lambdas):\n",
    "\n",
    "\n",
    "        ax = axes[iD,il]\n",
    "        w0 = np.zeros(D+1)  # y=0, starting point for GD\n",
    "        w_GD, nsteps = find_w_GD(w0, lmbda, x, t, eta=eta)  # solution from GD\n",
    "\n",
    "        w_sys = find_w_sys(lmbda, x, t, D)  # solution from solving linear system\n",
    "\n",
    "        xtest = np.linspace(min(x),max(x))\n",
    "        ytest_GD = f(xtest, w_GD)\n",
    "        ytest_sys = f(xtest, w_sys)\n",
    "\n",
    "        ax.scatter(x, t, label='samples')\n",
    "        ax.plot(xtest, ytest_GD, color='orange', label=f\"GD ({nsteps} iter)\")\n",
    "        ax.plot(xtest, ytest_sys, color='red', label=\"Sol. system\")\n",
    "        ax.legend()\n",
    "        ax.set_title(f\"$\\lambda={lmbda}, D={D}$\")"
   ]
  },
  {
   "cell_type": "code",
   "execution_count": null,
   "id": "df7a0e51",
   "metadata": {},
   "outputs": [],
   "source": [
    "fig.suptitle(f\"N = {N}\")\n",
    "plt.tight_layout()\n",
    "plt.show()"
   ]
  },
  {
   "cell_type": "markdown",
   "id": "13e98837",
   "metadata": {},
   "source": [
    "**Questions:** 1.What happens when D> N?\n",
    "2.What can go wrong with the linear system solution? With the gradient\n",
    "solution?\n",
    "3.How to correct these issues?"
   ]
  }
 ],
 "metadata": {
  "jupytext": {
   "cell_metadata_filter": "-all",
   "formats": "ipynb,py:light",
   "main_language": "python"
  },
  "language_info": {
   "codemirror_mode": {
    "name": "ipython",
    "version": 3
   },
   "file_extension": ".py",
   "mimetype": "text/x-python",
   "name": "python",
   "nbconvert_exporter": "python",
   "pygments_lexer": "ipython3",
   "version": "3.9.2"
  }
 },
 "nbformat": 4,
 "nbformat_minor": 5
}
