{
 "cells": [
  {
   "cell_type": "markdown",
   "metadata": {},
   "source": [
    "# Basic Numpy / Scipy manipulations\n",
    "\n",
    "## Intro\n",
    "\n",
    "This notebook will guide you with some basic numerical manipulations in\n",
    "Python, with the Numpy and Scipy packages.\n",
    "\n",
    "\n",
    "**It assumes you have read and followed the instructions of `ex00.md` file\n",
    "(in the same directory)** in order to setup the virtual environment.\n",
    "\n",
    "\n",
    "The kernel you see on top should be the one you have installed with the\n",
    "command `ipython kernel install`. **If it's not the case, select it with\n",
    "Kernel > Change Kernel > OML23.**\n",
    "\n",
    "**Restart the Kernel might sometime help if you get erros or freezes**\n",
    "\n",
    "If this is the first Jupyter notebook you see: you run the cells with the\n",
    "commands on the top or with `Shift-Enter`. \n",
    "\n",
    "General Python refresher: [Learn Python in Y\n",
    "minutes](https://learnxinyminutes.com/docs/python/).\n",
    "\n",
    "*Please send an email to brechet (at) mpi (dot) mis (dot) de if you have a\n",
    "question / if something is not working as planned!* "
   ]
  },
  {
   "cell_type": "markdown",
   "metadata": {},
   "source": [
    "--- "
   ]
  },
  {
   "cell_type": "code",
   "execution_count": null,
   "metadata": {},
   "outputs": [],
   "source": [
    "import numpy as np"
   ]
  },
  {
   "cell_type": "markdown",
   "metadata": {},
   "source": [
    "## Arrays in numpy"
   ]
  },
  {
   "cell_type": "markdown",
   "metadata": {},
   "source": [
    "Numpy can manage $n$-dimensional arrays with the type `numpy.ndarray`. A 1-d\n",
    "array (vector) can be created from a (Python) list like so:"
   ]
  },
  {
   "cell_type": "code",
   "execution_count": null,
   "metadata": {},
   "outputs": [],
   "source": [
    "a = np.array([1, 2, 3])\n",
    "print('shape of a:', a.shape)"
   ]
  },
  {
   "cell_type": "markdown",
   "metadata": {},
   "source": [
    "Arrays can also be created with built-in functions of Numpy (see [Numpy\n",
    "documentation](https://numpy.org/doc/1.24/user/index.html#user) for more info and examples)."
   ]
  },
  {
   "cell_type": "code",
   "execution_count": null,
   "metadata": {},
   "outputs": [],
   "source": [
    "b = np.arange(1, 10) # (Integer) interval [begin, end)\n",
    "c = np.ones((3, 2))  # 1s, shape given\n",
    "d = np.zeros_like(c)  # also works with ones_like, empty_like\n",
    "e = np.empty((2, 5))  # has to be initialized\n",
    "print('e:', e)"
   ]
  },
  {
   "cell_type": "code",
   "execution_count": null,
   "metadata": {},
   "outputs": [],
   "source": [
    "f = np.linspace(0, 1, num=100)  # linear space"
   ]
  },
  {
   "cell_type": "markdown",
   "metadata": {},
   "source": [
    "Numpy has broadcasting abilities: two arrays can be added, multiplied, etc.\n",
    "together if their shapes are compatible, i.e., if they are the same or if one\n",
    "of the array has dimension 1. "
   ]
  },
  {
   "cell_type": "markdown",
   "metadata": {},
   "source": [
    "For instance, the two arrays `a` and `b` are not compatible as it is, since\n",
    "their shapes are: "
   ]
  },
  {
   "cell_type": "code",
   "execution_count": null,
   "metadata": {},
   "outputs": [],
   "source": [
    "print('shape of a:', a.shape)\n",
    "print('shape of b:', b.shape)"
   ]
  },
  {
   "cell_type": "markdown",
   "metadata": {},
   "source": [
    "so in order to make them compatible we use the `reshape` method a put a `1`\n",
    "where we want the array to be copied, and `-1` to infer the missing dimension\n",
    "(internally computed)."
   ]
  },
  {
   "cell_type": "code",
   "execution_count": null,
   "metadata": {
    "lines_to_next_cell": 2
   },
   "outputs": [],
   "source": [
    "print('shape of a.reshape(-1, 1):', a.reshape(-1, 1).shape)"
   ]
  },
  {
   "cell_type": "markdown",
   "metadata": {},
   "source": [
    "to create a third array with entries from `a` and `b`, we then simply use a\n",
    "vectorized computation like"
   ]
  },
  {
   "cell_type": "code",
   "execution_count": null,
   "metadata": {},
   "outputs": [],
   "source": [
    "c = a.reshape(-1, 1) * b.reshape(1, -1)  # see a as a column and b as a row"
   ]
  },
  {
   "cell_type": "markdown",
   "metadata": {},
   "source": [
    "It creates an array $c$ with entries $c_{ij} = a_i b_j$."
   ]
  },
  {
   "cell_type": "code",
   "execution_count": null,
   "metadata": {
    "lines_to_next_cell": 2
   },
   "outputs": [],
   "source": [
    "print('c:', c)"
   ]
  },
  {
   "cell_type": "markdown",
   "metadata": {},
   "source": [
    "### Basic function vectorization "
   ]
  },
  {
   "cell_type": "markdown",
   "metadata": {},
   "source": [
    "**Perform as little loops as possible!**"
   ]
  },
  {
   "cell_type": "markdown",
   "metadata": {},
   "source": [
    "Ex: Find $S_{100} := \\sum_{i=1}^{100} \\frac{1}{i^2}$ "
   ]
  },
  {
   "cell_type": "markdown",
   "metadata": {},
   "source": [
    "Build up the function from the built-in"
   ]
  },
  {
   "cell_type": "code",
   "execution_count": null,
   "metadata": {},
   "outputs": [],
   "source": [
    "print(\"S_100 = \", ((1/np.arange(1, 101))**2).sum())"
   ]
  },
  {
   "cell_type": "markdown",
   "metadata": {},
   "source": [
    "2D functions"
   ]
  },
  {
   "cell_type": "code",
   "execution_count": null,
   "metadata": {},
   "outputs": [],
   "source": [
    "import matplotlib.pyplot as plt"
   ]
  },
  {
   "cell_type": "code",
   "execution_count": null,
   "metadata": {},
   "outputs": [],
   "source": [
    "t = np.linspace(0, 0.01, num=1000)  # 1/100 second\n",
    "f1 = 440\n",
    "f2 = 220\n",
    "tt1 = 2*np.pi*f1*t  # vector like t\n",
    "tt2 = 2*np.pi*f2*t"
   ]
  },
  {
   "cell_type": "code",
   "execution_count": null,
   "metadata": {},
   "outputs": [],
   "source": [
    "v1 = np.sin(tt1)  # sinus applied to tt1\n",
    "v2 = np.sin(tt2)  # sinus applied to tt2\n",
    "v3 = v1 + v2    "
   ]
  },
  {
   "cell_type": "code",
   "execution_count": null,
   "metadata": {},
   "outputs": [],
   "source": [
    "plt.figure()\n",
    "# Ploting\n",
    "plt.plot(t, v1, label=f\"{f1} Hz\")\n",
    "plt.plot(t, v2, label=f\"{f2} Hz\")\n",
    "plt.plot(t, v3, label=f\"v3\")\n",
    "plt.xlabel('time')\n",
    "plt.ylabel('y')\n",
    "plt.legend()\n",
    "plt.show()"
   ]
  },
  {
   "cell_type": "code",
   "execution_count": null,
   "metadata": {
    "lines_to_next_cell": 2
   },
   "outputs": [],
   "source": [
    "# Gaussian in 2d\n",
    "x = np.linspace(-2, 2, num=100).reshape(1, -1)  # will be broadcasted along dim 0\n",
    "y = np.linspace(-2, 2, num=100).reshape(-1, 1)  # will be broadcasted along dim 1"
   ]
  },
  {
   "cell_type": "code",
   "execution_count": null,
   "metadata": {
    "lines_to_next_cell": 2
   },
   "outputs": [],
   "source": [
    "sigma_x =1\n",
    "sigma_y = 0.5"
   ]
  },
  {
   "cell_type": "code",
   "execution_count": null,
   "metadata": {},
   "outputs": [],
   "source": [
    "Z = np.exp(-1/2 * ((x/sigma_x)**2 + (y/sigma_y)**2))  # 2D Gaussian pdf"
   ]
  },
  {
   "cell_type": "code",
   "execution_count": null,
   "metadata": {},
   "outputs": [],
   "source": [
    "X, Y = np.meshgrid(x, y)  # makes 2D matrices out of 1D vectors"
   ]
  },
  {
   "cell_type": "code",
   "execution_count": null,
   "metadata": {
    "lines_to_next_cell": 2
   },
   "outputs": [],
   "source": [
    "plt.figure()\n",
    "plt.contour(X, Y, Z) # show the contour of the function in Z on the mesh X, Y\n",
    "plt.xlabel('x')\n",
    "plt.ylabel('y')\n",
    "plt.show()"
   ]
  },
  {
   "cell_type": "markdown",
   "metadata": {},
   "source": [
    "## Simple image manipulation"
   ]
  },
  {
   "cell_type": "code",
   "execution_count": null,
   "metadata": {},
   "outputs": [],
   "source": [
    "import scipy as sp\n",
    "from skimage import data # for images"
   ]
  },
  {
   "cell_type": "markdown",
   "metadata": {},
   "source": [
    "Load an image with scikit (by default between 0 and 255, make the range in [0,1]):"
   ]
  },
  {
   "cell_type": "code",
   "execution_count": null,
   "metadata": {},
   "outputs": [],
   "source": [
    "camera = data.camera()/255"
   ]
  },
  {
   "cell_type": "code",
   "execution_count": null,
   "metadata": {},
   "outputs": [],
   "source": [
    "print('shape of camera:', camera.shape)"
   ]
  },
  {
   "cell_type": "markdown",
   "metadata": {},
   "source": [
    "Black and white image, $C = {(C_{ij})}_{i,j=1}^{n, m}$. Each $C_{ij} \\in\n",
    "[0,1]$."
   ]
  },
  {
   "cell_type": "code",
   "execution_count": null,
   "metadata": {},
   "outputs": [],
   "source": [
    "camera[0,0], camera[511, 511]"
   ]
  },
  {
   "cell_type": "markdown",
   "metadata": {
    "lines_to_next_cell": 2
   },
   "source": [
    "Perform a SVD to find orthogonal components in the image: $A = USV^\\top$ with orthonormal $U$ and $V$, and diagonal $S = \\rm{Diag}(\\sigma_1, \\ldots, \\sigma_k)$. "
   ]
  },
  {
   "cell_type": "code",
   "execution_count": null,
   "metadata": {},
   "outputs": [],
   "source": [
    "U, S, Vt = sp.linalg.svd(camera)  # performs a SVD, with decreasing singular\n",
    "                                    #   values"
   ]
  },
  {
   "cell_type": "markdown",
   "metadata": {},
   "source": [
    "`S` is a vector, the original image is found with `U @ (S.reshape(-1,1) *\n",
    "Vt)` :"
   ]
  },
  {
   "cell_type": "code",
   "execution_count": null,
   "metadata": {},
   "outputs": [],
   "source": [
    "print(np.allclose(camera, U @ (S.reshape(-1, 1) * Vt)))"
   ]
  },
  {
   "cell_type": "markdown",
   "metadata": {
    "lines_to_next_cell": 2
   },
   "source": [
    "`@` is the  matrix multiplication, and the vector `S` is reshaped so that\n",
    "each of its entry multiplies a different row in `Vt`. (same effect as when\n",
    "$S$ is a diagonal matrix and $V^\\top$: the rows of $V^\\top$ are also\n",
    "multiplied by the entries in $S$)."
   ]
  },
  {
   "cell_type": "markdown",
   "metadata": {},
   "source": [
    "We can use the SVD to perform (approximate) compression of the data, by\n",
    "selection a given number of singular values in $S$ and not all. "
   ]
  },
  {
   "cell_type": "code",
   "execution_count": null,
   "metadata": {},
   "outputs": [],
   "source": []
  },
  {
   "cell_type": "code",
   "execution_count": null,
   "metadata": {
    "lines_to_next_cell": 2
   },
   "outputs": [],
   "source": [
    "N = S.shape[0]  # total number of singular values, same as width / height"
   ]
  },
  {
   "cell_type": "code",
   "execution_count": null,
   "metadata": {
    "lines_to_next_cell": 2
   },
   "outputs": [],
   "source": [
    "print(\"Total number of components: \", N)\n",
    "p = 1  # number of components we keep\n",
    "C2 = U[:, :p] @ (S[:p].reshape(-1, 1) * Vt[:p, :])  # select the p first\n",
    "                                                    # components from the SVD"
   ]
  },
  {
   "cell_type": "code",
   "execution_count": null,
   "metadata": {},
   "outputs": [],
   "source": [
    "fig, axes = plt.subplots(1, 2)\n",
    "axes[0].imshow(camera, cmap='gray', vmin=0, vmax=1)  # gives the range of inputs [0,1]\n",
    "axes[1].imshow(C2, cmap='gray', vmin=0, vmax=1)"
   ]
  },
  {
   "cell_type": "markdown",
   "metadata": {},
   "source": [
    "The singular values encode the variation in the image, since if $A =\n",
    "USV^\\top = U \\rm{Diag}(\\sigma_1, \\ldots, \\sigma_k) V^\\top$ is a SVD of a\n",
    "matrix $A$, then $\\|A\\|_F = \\sqrt{\\sum_i \\sigma_i^2}$."
   ]
  },
  {
   "cell_type": "markdown",
   "metadata": {},
   "source": [
    "Define the function computing the norm from the vector of singular values"
   ]
  },
  {
   "cell_type": "code",
   "execution_count": null,
   "metadata": {
    "lines_to_next_cell": 1
   },
   "outputs": [],
   "source": [
    "\"\"\"Compute the norm based on the singular values S (a vector)\"\"\"\n",
    "def norm_F(S): return np.sqrt((S**2).sum())  # "
   ]
  },
  {
   "cell_type": "markdown",
   "metadata": {},
   "source": [
    "Check if the formula is correct, compute $\\|A\\|_F$ with `np.linalg.norm(A, 'fro')`:"
   ]
  },
  {
   "cell_type": "code",
   "execution_count": null,
   "metadata": {
    "lines_to_next_cell": 2
   },
   "outputs": [],
   "source": [
    "import math"
   ]
  },
  {
   "cell_type": "code",
   "execution_count": null,
   "metadata": {},
   "outputs": [],
   "source": [
    "print(math.isclose(norm_F(S), np.linalg.norm(camera, 'fro')))    # should be 0"
   ]
  },
  {
   "cell_type": "markdown",
   "metadata": {},
   "source": [
    "We therefore define the *reconstruction* to the ratio between the norm of the\n",
    "compressed image to the original one as below. "
   ]
  },
  {
   "cell_type": "markdown",
   "metadata": {
    "lines_to_next_cell": 2
   },
   "source": [
    "Define the function for the reconstruction rate as"
   ]
  },
  {
   "cell_type": "code",
   "execution_count": null,
   "metadata": {
    "lines_to_next_cell": 1
   },
   "outputs": [],
   "source": [
    "def reconstruction_rate(p, S=S):  # default value to the already defined S\n",
    "    \"\"\"Compute the reconstruction rate given a number of components\"\"\"\n",
    "    norm_orig = norm_F(S)\n",
    "    return 100* (norm_F(S[:p]) / norm_orig)"
   ]
  },
  {
   "cell_type": "markdown",
   "metadata": {},
   "source": [
    "Define the compression factor as the ratio between the total number of\n",
    "components and the number kept"
   ]
  },
  {
   "cell_type": "code",
   "execution_count": null,
   "metadata": {},
   "outputs": [],
   "source": [
    "def compression_factor(p, N=N): return (N/p)"
   ]
  },
  {
   "cell_type": "code",
   "execution_count": null,
   "metadata": {},
   "outputs": [],
   "source": [
    "print(\"Reconstruction rate: {:.3f}%\".format(reconstruction_rate(p)))\n",
    "print(\"Compression factor {:.0f}x\".format(compression_factor(p)))\n",
    "plt.show()"
   ]
  },
  {
   "cell_type": "markdown",
   "metadata": {},
   "source": [
    "**Question** : how many components do we need in order to get at least 99% reconstruction\n",
    "rate with the highest compression factor?"
   ]
  },
  {
   "cell_type": "markdown",
   "metadata": {},
   "source": [
    "(Hint: use a loop!)"
   ]
  },
  {
   "cell_type": "code",
   "execution_count": null,
   "metadata": {
    "lines_to_end_of_cell_marker": 2
   },
   "outputs": [],
   "source": [
    "# enter your answer here..."
   ]
  },
  {
   "cell_type": "markdown",
   "metadata": {},
   "source": [
    "**Answer**"
   ]
  },
  {
   "cell_type": "markdown",
   "metadata": {},
   "source": [
    "We simply loop over `p` with a condition on the reconstrction rate"
   ]
  },
  {
   "cell_type": "code",
   "execution_count": null,
   "metadata": {},
   "outputs": [],
   "source": [
    "p = 1\n",
    "rrate = reconstruction_rate(p)\n",
    "while rrate < 99:\n",
    "    p += 1\n",
    "    rrate = reconstruction_rate(p)"
   ]
  },
  {
   "cell_type": "code",
   "execution_count": null,
   "metadata": {},
   "outputs": [],
   "source": [
    "print(f\"Number of components: {p}\") # f-strings allow to format strings in\n",
    "                                    # Python with variables"
   ]
  },
  {
   "cell_type": "code",
   "execution_count": null,
   "metadata": {},
   "outputs": [],
   "source": [
    "print(\"Reconstruction rate: {:.3f}%\".format(reconstruction_rate(p)))\n",
    "print(\"Compression factor: {:.0f}x\".format(compression_factor(p)))"
   ]
  },
  {
   "cell_type": "code",
   "execution_count": null,
   "metadata": {
    "lines_to_next_cell": 2
   },
   "outputs": [],
   "source": [
    "C3 = U[:, :p] @ (S[:p].reshape(-1, 1) * Vt[:p, :])  # select the p first\n",
    "                                                    # components from the SVD"
   ]
  },
  {
   "cell_type": "code",
   "execution_count": null,
   "metadata": {},
   "outputs": [],
   "source": [
    "fig, axes = plt.subplots(1, 3)\n",
    "axes[0].imshow(camera, cmap='gray', vmin=0, vmax=1)\n",
    "axes[0].set_title('Original')\n",
    "axes[1].imshow(C2, cmap='gray', vmin=0, vmax=1)\n",
    "axes[1].set_title('p = 1')\n",
    "axes[2].imshow(C3, cmap='gray', vmin=0, vmax=1)\n",
    "axes[2].set_title(f'p = {p}')\n",
    "plt.show()"
   ]
  }
 ],
 "metadata": {
  "jupytext": {
   "cell_metadata_filter": "-all",
   "formats": "ipynb,py:light"
  },
  "kernelspec": {
   "display_name": "OML23",
   "language": "python",
   "name": "oml23"
  },
  "language_info": {
   "codemirror_mode": {
    "name": "ipython",
    "version": 3
   },
   "file_extension": ".py",
   "mimetype": "text/x-python",
   "name": "python",
   "nbconvert_exporter": "python",
   "pygments_lexer": "ipython3",
   "version": "3.9.0"
  }
 },
 "nbformat": 4,
 "nbformat_minor": 4
}
